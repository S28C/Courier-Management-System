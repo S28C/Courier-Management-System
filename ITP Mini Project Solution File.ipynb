{
 "cells": [
  {
   "cell_type": "markdown",
   "id": "7e12074f",
   "metadata": {},
   "source": [
    "                                    ITP Mini Project\n",
    "                                  Courier Management System\n",
    "  \n",
    "  For a seamless eCommerce shopping experience, it is essential to deliver the product promptly to the customer. And that’s where a professional courier service plays a vital role. 'FastTrack' courier company stores the relevant data of its clients and parcels in the form of dictionary. Create a dictionary for storing shipment information in key-value pairs. Shipment id is used as a key and list of other attributes like sender, receiver, start date, Delivery Date, Sender_location, Receiver_location, Delivery status, Shipping cost is associated with shipment id. Use the data shown in the table below.\n"
   ]
  },
  {
   "cell_type": "markdown",
   "id": "9b0a249f",
   "metadata": {},
   "source": [
    "Q1. Create a Dictionary of lists to store the information of shipments given in the table"
   ]
  },
  {
   "cell_type": "code",
   "execution_count": 17,
   "id": "ba964d77",
   "metadata": {
    "scrolled": true
   },
   "outputs": [
    {
     "data": {
      "text/plain": [
       "{101: [1, 3, '14-03-2020', '25-03-2020', 'Area1', 'Area6', 'Delivered', 198],\n",
       " 102: [4, 1, '18-06-2020', '09-07-2020', 'Area2', 'Area4', 'Delivered', 275],\n",
       " 103: [2, 3, '01-12-2020', 'Null', 'Area5', 'Area1', 'in-Transit', 200],\n",
       " 104: [1, 5, '23-06-2020', '25-06-2020', 'Area1', 'Area4', 'Delivered', 314],\n",
       " 105: [3, 4, '29-08-2020', '10-09-2020', 'Area5', 'Area3', 'Delivered', 275],\n",
       " 106: [5, 2, '28-06-2020', 'Null', 'Area3', 'Area1', 'In-Transit', 270]}"
      ]
     },
     "execution_count": 17,
     "metadata": {},
     "output_type": "execute_result"
    }
   ],
   "source": [
    "ship = {101:[1,3,'14-03-2020','25-03-2020','Area1','Area6','Delivered',198],\n",
    "        102:[4,1,'18-06-2020','09-07-2020','Area2','Area4','Delivered',275],\n",
    "        103:[2,3,'01-12-2020','Null','Area5','Area1','in-Transit',200],\n",
    "        104:[1,5,'23-06-2020','25-06-2020','Area1','Area4','Delivered',314],\n",
    "        105:[3,4,'29-08-2020','10-09-2020','Area5','Area3','Delivered',275],\n",
    "        106:[5,2,'28-06-2020','Null','Area3','Area1','In-Transit',270]} # printing a dictionary using the given data\n",
    "\n",
    "ship"
   ]
  },
  {
   "cell_type": "code",
   "execution_count": 79,
   "id": "4e1c29f3",
   "metadata": {},
   "outputs": [
    {
     "name": "stdout",
     "output_type": "stream",
     "text": [
      "[{'shipment_id': 101, 'sender': 1, 'receiver': 3, 'start_date': datetime.datetime(2020, 3, 14, 0, 0), 'delivery_date': datetime.datetime(2020, 3, 25, 0, 0), 'sender_location': 'Area1', 'receiver_location': 'Area6', 'delivery_status': 'Delivered', 'shipping_cost': 198}, {'shipment_id': 102, 'sender': 4, 'receiver': 1, 'start_date': datetime.datetime(2020, 6, 18, 0, 0), 'delivery_date': datetime.datetime(2020, 7, 9, 0, 0), 'sender_location': 'Area2', 'receiver_location': 'Area4', 'delivery_status': 'Delivered', 'shipping_cost': 275}, {'shipment_id': 103, 'sender': 1, 'receiver': 3, 'start_date': datetime.datetime(2020, 12, 1, 0, 0), 'delivery_date': None, 'sender_location': 'Area5', 'receiver_location': 'Area1', 'delivery_status': 'In-Transit', 'shipping_cost': 200}, {'shipment_id': 104, 'sender': 1, 'receiver': 3, 'start_date': datetime.datetime(2020, 6, 23, 0, 0), 'delivery_date': datetime.datetime(2020, 6, 25, 0, 0), 'sender_location': 'Area1', 'receiver_location': 'Area4', 'delivery_status': 'Delivered', 'shipping_cost': 314}, {'shipment_id': 105, 'sender': 1, 'receiver': 3, 'start_date': datetime.datetime(2020, 8, 29, 0, 0), 'delivery_date': datetime.datetime(2020, 9, 20, 0, 0), 'sender_location': 'Area5', 'receiver_location': 'Area3', 'delivery_status': 'Delivered', 'shipping_cost': 275}, {'shipment_id': 106, 'sender': 1, 'receiver': 3, 'start_date': datetime.datetime(2020, 6, 28, 0, 0), 'delivery_date': None, 'sender_location': 'Area3', 'receiver_location': 'Area1', 'delivery_status': 'In-Transit', 'shipping_cost': 270}]\n"
     ]
    }
   ],
   "source": [
    "import datetime\n",
    "shipment = [{\"shipment_id\": 101, \"sender\": 1, \"receiver\": 3, \"start_date\": datetime.datetime(2020, 3, 14), \"delivery_date\": datetime.datetime(2020, 3, 25), \"sender_location\": \"Area1\", \"receiver_location\": \"Area6\", \"delivery_status\": \"Delivered\", \"shipping_cost\": 198},\n",
    "                 {\"shipment_id\": 102, \"sender\": 4, \"receiver\": 1, \"start_date\": datetime.datetime(2020, 6, 18), \"delivery_date\": datetime.datetime(\n",
    "                     2020, 7, 9), \"sender_location\": \"Area2\", \"receiver_location\": \"Area4\", \"delivery_status\": \"Delivered\", \"shipping_cost\": 275},\n",
    "                 {\"shipment_id\": 103, \"sender\": 1, \"receiver\": 3, \"start_date\": datetime.datetime(2020, 12, 1), \"delivery_date\": None, \"sender_location\": \"Area5\", \"receiver_location\": \"Area1\", \"delivery_status\": \"In-Transit\", \"shipping_cost\": 200},\n",
    "                 {\"shipment_id\": 104, \"sender\": 1, \"receiver\": 3, \"start_date\": datetime.datetime(2020, 6, 23), \"delivery_date\": datetime.datetime(\n",
    "                     2020, 6, 25), \"sender_location\": \"Area1\", \"receiver_location\": \"Area4\", \"delivery_status\": \"Delivered\", \"shipping_cost\": 314},\n",
    "                 {\"shipment_id\": 105, \"sender\": 1, \"receiver\": 3, \"start_date\": datetime.datetime(2020, 8, 29), \"delivery_date\": datetime.datetime(\n",
    "                     2020, 9, 20), \"sender_location\": \"Area5\", \"receiver_location\": \"Area3\", \"delivery_status\": \"Delivered\", \"shipping_cost\": 275},\n",
    "                 {\"shipment_id\": 106, \"sender\": 1, \"receiver\": 3, \"start_date\": datetime.datetime(2020, 6, 28), \"delivery_date\": None, \"sender_location\": \"Area3\", \"receiver_location\": \"Area1\", \"delivery_status\": \"In-Transit\", \"shipping_cost\": 270}]\n",
    "print(shipment)"
   ]
  },
  {
   "cell_type": "markdown",
   "id": "996319a6",
   "metadata": {},
   "source": [
    "Q2. Create a Dictionary to store the information of clients given in the table."
   ]
  },
  {
   "cell_type": "code",
   "execution_count": 5,
   "id": "60aa0a64",
   "metadata": {},
   "outputs": [
    {
     "data": {
      "text/plain": [
       "{1: 'Phillip', 2: 'Omega', 3: 'Ramya', 4: 'Romesh', 5: 'John'}"
      ]
     },
     "execution_count": 5,
     "metadata": {},
     "output_type": "execute_result"
    }
   ],
   "source": [
    "dict_client={1:'Phillip',2:'Omega',3:'Ramya',4:'Romesh',5:'John'} # printing a dictionary using the given data\n",
    "\n",
    "dict_client"
   ]
  },
  {
   "cell_type": "markdown",
   "id": "1b847c71",
   "metadata": {},
   "source": [
    "Q3. Write a code to replace clients' IDs with their respective names in the shipment dictionary using a loop and dictionary comprehension"
   ]
  },
  {
   "cell_type": "code",
   "execution_count": 7,
   "id": "62df56ec",
   "metadata": {},
   "outputs": [],
   "source": [
    "ship = {101: [1, 3, '14-03-2020', '25-03-2020', 'Area1', 'Area6', 'Delivered', 198],\n",
    " 102: [4, 1, '18-06-2020', '09-07-2020', 'Area2', 'Area4', 'Delivered', 275],\n",
    " 103: [2, 3, '01-12-2020', 'Null', 'Area5', 'Area1', 'in-Transit', 200],\n",
    " 104: [1, 5, '23-06-2020','25-06-2020' ,'Area1', 'Area4', 'Delivered', 314],\n",
    " 105: [3, 4, '29-08-2020', '10-09-2020', 'Area5', 'Area3', 'Delivered', 275],\n",
    " 106: [5, 2, '28-06-2020', 'Null', 'Area3', 'Area1', 'In-Transit', 270]}"
   ]
  },
  {
   "cell_type": "code",
   "execution_count": 12,
   "id": "80d8ddc9",
   "metadata": {},
   "outputs": [
    {
     "data": {
      "text/plain": [
       "{1: 'Phillip', 2: 'Omega', 3: 'Ramya', 4: 'Romesh', 5: 'John'}"
      ]
     },
     "execution_count": 12,
     "metadata": {},
     "output_type": "execute_result"
    }
   ],
   "source": [
    "Client_data = {1:'Phillip',2:'Omega',3:'Ramya',4:'Romesh',5:'John'} # printing a dictionary\n",
    "Client_data "
   ]
  },
  {
   "cell_type": "code",
   "execution_count": 18,
   "id": "1e3a03dc",
   "metadata": {},
   "outputs": [
    {
     "name": "stdout",
     "output_type": "stream",
     "text": [
      "{101: ['Phillip', 'Ramya', '14-03-2020', '25-03-2020', 'Area1', 'Area6', 'Delivered', 198], 102: ['Romesh', 'Phillip', '18-06-2020', '09-07-2020', 'Area2', 'Area4', 'Delivered', 275], 103: ['Omega', 'Ramya', '01-12-2020', 'Null', 'Area5', 'Area1', 'in-Transit', 200], 104: ['Phillip', 'John', '23-06-2020', '25-06-2020', 'Area1', 'Area4', 'Delivered', 314], 105: ['Ramya', 'Romesh', '29-08-2020', '10-09-2020', 'Area5', 'Area3', 'Delivered', 275], 106: ['John', 'Omega', '28-06-2020', 'Null', 'Area3', 'Area1', 'In-Transit', 270]} "
     ]
    }
   ],
   "source": [
    "result = {k:[Client_data.get(v,v) for v in v] for k, v in ship.items()}# replacing client id's with their names using dict comprehension\n",
    "print ( result,end=' ')"
   ]
  },
  {
   "cell_type": "markdown",
   "id": "4a4d31a4",
   "metadata": {},
   "source": [
    "Q4. Print all shipment details that are sent by Phillip"
   ]
  },
  {
   "cell_type": "code",
   "execution_count": 77,
   "id": "6eca6bdd",
   "metadata": {},
   "outputs": [
    {
     "data": {
      "text/plain": [
       "{101: {'Sender': 'Phillip',\n",
       "  'Receiver': 'Ramya',\n",
       "  'Start date': '14-03-2020',\n",
       "  'Delivery date': '25-03-2020',\n",
       "  'Sender location': 'Area 1',\n",
       "  'Receiver location': 'Area 6',\n",
       "  'Delivery status': 'Delivered',\n",
       "  'Shipping cost': 198},\n",
       " 102: {'Sender': 'Romesh',\n",
       "  'Receiver': 'Phillip',\n",
       "  'Start date': '18-06-2020',\n",
       "  'Delivery date': '09-07-2020',\n",
       "  'Sender location': 'Area 2',\n",
       "  'Receiver location': 'Area 4',\n",
       "  'Delivery status': 'Delivered',\n",
       "  'Shipping cost': 275},\n",
       " 103: {'Sender': 'Omega lll',\n",
       "  'Receiver': 'Ramya',\n",
       "  'Start date': '01-12-2020',\n",
       "  'Delivery date': 'Null',\n",
       "  'Sender location': 'Area 5',\n",
       "  'Receiver location': 'Area 1',\n",
       "  'Delivery status': 'In Transit',\n",
       "  'Shipping cost': 200},\n",
       " 104: {'Sender': 'Phillip',\n",
       "  'Receiver': 'John',\n",
       "  'Start date': '23-06-2020',\n",
       "  'Delivery date': '25-06-2020',\n",
       "  'Sender location': 'Area 1',\n",
       "  'Receiver location': 'Area 4',\n",
       "  'Delivery status': 'Delivered',\n",
       "  'Shipping cost': 314},\n",
       " 105: {'Sender': 'Ramya',\n",
       "  'Receiver': 'Romesh',\n",
       "  'Start date': '29-08-2020',\n",
       "  'Delivery date': '10-09-2020',\n",
       "  'Sender location': 'Area 5',\n",
       "  'Receiver location': 'Area 3',\n",
       "  'Delivery status': 'Delivered',\n",
       "  'Shipping cost': 275},\n",
       " 106: {'Sender': 'John',\n",
       "  'Receiver': 'Omega lll',\n",
       "  'Start date': '28-06-2020',\n",
       "  'Delivery date': 'Null',\n",
       "  'Sender location': 'Area 3',\n",
       "  'Receiver location': 'Area 1',\n",
       "  'Delivery status': 'In Transit',\n",
       "  'Shipping cost': 270}}"
      ]
     },
     "execution_count": 77,
     "metadata": {},
     "output_type": "execute_result"
    }
   ],
   "source": [
    "dict1 = {101: {'Sender': 'Phillip', 'Receiver': 'Ramya', 'Start date': '14-03-2020', 'Delivery date': '25-03-2020', 'Sender location': 'Area 1', 'Receiver location': 'Area 6', 'Delivery status': 'Delivered', 'Shipping cost': 198}, 102: {'Sender': 'Romesh', 'Receiver': 'Phillip', 'Start date': '18-06-2020', 'Delivery date': '09-07-2020', 'Sender location': 'Area 2', 'Receiver location': 'Area 4', 'Delivery status': 'Delivered', 'Shipping cost': 275}, 103: {'Sender': 'Omega lll', 'Receiver': 'Ramya', 'Start date': '01-12-2020', 'Delivery date': 'Null', 'Sender location': 'Area 5', 'Receiver location': 'Area 1', 'Delivery status': 'In Transit', 'Shipping cost': 200}, 104: {'Sender': 'Phillip', 'Receiver': 'John', 'Start date': '23-06-2020', 'Delivery date': '25-06-2020', 'Sender location': 'Area 1', 'Receiver location': 'Area 4', 'Delivery status': 'Delivered', 'Shipping cost': 314}, 105: {'Sender': 'Ramya', 'Receiver': 'Romesh', 'Start date': '29-08-2020', 'Delivery date': '10-09-2020', 'Sender location': 'Area 5', 'Receiver location': 'Area 3', 'Delivery status': 'Delivered', 'Shipping cost': 275}, 106: {'Sender': 'John', 'Receiver': 'Omega lll', 'Start date': '28-06-2020', 'Delivery date': 'Null', 'Sender location': 'Area 3', 'Receiver location': 'Area 1', 'Delivery status': 'In Transit', 'Shipping cost': 270}}\n",
    "\n",
    "dict1"
   ]
  },
  {
   "cell_type": "code",
   "execution_count": 69,
   "id": "8e4ab72d",
   "metadata": {},
   "outputs": [
    {
     "name": "stdout",
     "output_type": "stream",
     "text": [
      "[{'Sender': 'Phillip', 'Receiver': 'Ramya', 'Start date': '14-03-2020', 'Delivery date': '25-03-2020', 'Sender location': 'Area 1', 'Receiver location': 'Area 6', 'Delivery status': 'Delivered', 'Shipping cost': 198}, {'Sender': 'Phillip', 'Receiver': 'John', 'Start date': '23-06-2020', 'Delivery date': '25-06-2020', 'Sender location': 'Area 1', 'Receiver location': 'Area 4', 'Delivery status': 'Delivered', 'Shipping cost': 314}]\n"
     ]
    }
   ],
   "source": [
    "dict1 = {101: {'Sender': 'Phillip', 'Receiver': 'Ramya', 'Start date': '14-03-2020', 'Delivery date': '25-03-2020', 'Sender location': 'Area 1', 'Receiver location': 'Area 6', 'Delivery status': 'Delivered', 'Shipping cost': 198}, 102: {'Sender': 'Romesh', 'Receiver': 'Phillip', 'Start date': '18-06-2020', 'Delivery date': '09-07-2020', 'Sender location': 'Area 2', 'Receiver location': 'Area 4', 'Delivery status': 'Delivered', 'Shipping cost': 275}, 103: {'Sender': 'Omega lll', 'Receiver': 'Ramya', 'Start date': '01-12-2020', 'Delivery date': 'Null', 'Sender location': 'Area 5', 'Receiver location': 'Area 1', 'Delivery status': 'In Transit', 'Shipping cost': 200}, 104: {'Sender': 'Phillip', 'Receiver': 'John', 'Start date': '23-06-2020', 'Delivery date': '25-06-2020', 'Sender location': 'Area 1', 'Receiver location': 'Area 4', 'Delivery status': 'Delivered', 'Shipping cost': 314}, 105: {'Sender': 'Ramya', 'Receiver': 'Romesh', 'Start date': '29-08-2020', 'Delivery date': '10-09-2020', 'Sender location': 'Area 5', 'Receiver location': 'Area 3', 'Delivery status': 'Delivered', 'Shipping cost': 275}, 106: {'Sender': 'John', 'Receiver': 'Omega lll', 'Start date': '28-06-2020', 'Delivery date': 'Null', 'Sender location': 'Area 3', 'Receiver location': 'Area 1', 'Delivery status': 'In Transit', 'Shipping cost': 270}}\n",
    "phillips = list(filter(lambda value: value['Sender'] == 'Phillip', # using Phillip as filter condition\n",
    "                       dict1.values()))\n",
    "print(phillips)"
   ]
  },
  {
   "cell_type": "markdown",
   "id": "0885fd8c",
   "metadata": {},
   "source": [
    "Q5. Print all shipment details that are received by Ramya"
   ]
  },
  {
   "cell_type": "code",
   "execution_count": 71,
   "id": "c07deb9d",
   "metadata": {},
   "outputs": [
    {
     "name": "stdout",
     "output_type": "stream",
     "text": [
      "[{'Sender': 'Phillip', 'Receiver': 'Ramya', 'Start date': '14-03-2020', 'Delivery date': '25-03-2020', 'Sender location': 'Area 1', 'Receiver location': 'Area 6', 'Delivery status': 'Delivered', 'Shipping cost': 198}, {'Sender': 'Omega lll', 'Receiver': 'Ramya', 'Start date': '01-12-2020', 'Delivery date': 'Null', 'Sender location': 'Area 5', 'Receiver location': 'Area 1', 'Delivery status': 'In Transit', 'Shipping cost': 200}]\n"
     ]
    }
   ],
   "source": [
    "ramya = list(filter(lambda value: value['Receiver'] == 'Ramya', # using Ramya as filter condition\n",
    "                       dict1.values()))\n",
    "print(ramya)"
   ]
  },
  {
   "cell_type": "markdown",
   "id": "09bedc35",
   "metadata": {},
   "source": [
    "Q6. Print all shipments which are in 'In-Transit' status"
   ]
  },
  {
   "cell_type": "code",
   "execution_count": 73,
   "id": "383424fa",
   "metadata": {},
   "outputs": [
    {
     "name": "stdout",
     "output_type": "stream",
     "text": [
      "[{'Sender': 'Omega lll', 'Receiver': 'Ramya', 'Start date': '01-12-2020', 'Delivery date': 'Null', 'Sender location': 'Area 5', 'Receiver location': 'Area 1', 'Delivery status': 'In Transit', 'Shipping cost': 200}, {'Sender': 'John', 'Receiver': 'Omega lll', 'Start date': '28-06-2020', 'Delivery date': 'Null', 'Sender location': 'Area 3', 'Receiver location': 'Area 1', 'Delivery status': 'In Transit', 'Shipping cost': 270}]\n"
     ]
    }
   ],
   "source": [
    "status = list(filter(lambda value: value['Delivery status'] == 'In Transit', # Using Delivery status as In-Transit to get the data\n",
    "                       dict1.values()))\n",
    "print(status)"
   ]
  },
  {
   "cell_type": "markdown",
   "id": "5180460a",
   "metadata": {},
   "source": [
    "Q7. Print all shipments which are delivered within 7 days of courier Start date"
   ]
  },
  {
   "cell_type": "code",
   "execution_count": 37,
   "id": "5c04a00f",
   "metadata": {},
   "outputs": [
    {
     "data": {
      "text/plain": [
       "{101: {'Sender': 'Phillip',\n",
       "  'Receiver': 'Ramya',\n",
       "  'Start date': '14-03-2020',\n",
       "  'Delivery date': '25-03-2020',\n",
       "  'Sender location': 'Area 1',\n",
       "  'Receiver location': 'Area 6',\n",
       "  'Delivery status': 'Delivered',\n",
       "  'Shipping cost': 198},\n",
       " 102: {'Sender': 'Romesh',\n",
       "  'Receiver': 'Phillip',\n",
       "  'Start date': '18-06-2020',\n",
       "  'Delivery date': '09-07-2020',\n",
       "  'Sender location': 'Area 2',\n",
       "  'Receiver location': 'Area 4',\n",
       "  'Delivery status': 'Delivered',\n",
       "  'Shipping cost': 275},\n",
       " 103: {'Sender': 'Omega lll',\n",
       "  'Receiver': 'Ramya',\n",
       "  'Start date': '01-12-2020',\n",
       "  'Delivery date': 'Null',\n",
       "  'Sender location': 'Area 5',\n",
       "  'Receiver location': 'Area 1',\n",
       "  'Delivery status': 'In-Transit',\n",
       "  'Shipping cost': 200},\n",
       " 104: {'Sender': 'Phillip',\n",
       "  'Receiver': 'John',\n",
       "  'Start date': '23-06-2020',\n",
       "  'Delivery date': '25-06-2020',\n",
       "  'Sender location': 'Area 1',\n",
       "  'Receiver location': 'Area 4',\n",
       "  'Delivery status': 'Delivered',\n",
       "  'Shipping cost': 314},\n",
       " 105: {'Sender': 'Ramya',\n",
       "  'Receiver': 'Romesh',\n",
       "  'Start date': '29-08-2020',\n",
       "  'Delivery date': '10-09-2020',\n",
       "  'Sender location': 'Area 5',\n",
       "  'Receiver location': 'Area 3',\n",
       "  'Delivery status': 'Delivered',\n",
       "  'Shipping cost': 275},\n",
       " 106: {'Sender': 'John',\n",
       "  'Receiver': 'Omega lll',\n",
       "  'Start date': '28-06-2020',\n",
       "  'Delivery date': 'Null',\n",
       "  'Sender location': 'Area 3',\n",
       "  'Receiver location': 'Area 1',\n",
       "  'Delivery status': 'In-Transit',\n",
       "  'Shipping cost': 270}}"
      ]
     },
     "execution_count": 37,
     "metadata": {},
     "output_type": "execute_result"
    }
   ],
   "source": [
    "a= {101: {'Sender': 'Phillip', 'Receiver': 'Ramya', 'Start date': '14-03-2020', 'Delivery date': '25-03-2020', 'Sender location': 'Area 1', 'Receiver location': 'Area 6', 'Delivery status': 'Delivered', 'Shipping cost': 198}, 102: {'Sender': 'Romesh', 'Receiver': 'Phillip', 'Start date': '18-06-2020', 'Delivery date': '09-07-2020', 'Sender location': 'Area 2', 'Receiver location': 'Area 4', 'Delivery status': 'Delivered', 'Shipping cost': 275}, 103: {'Sender': 'Omega lll', 'Receiver': 'Ramya', 'Start date': '01-12-2020', 'Delivery date': 'Null', 'Sender location': 'Area 5', 'Receiver location': 'Area 1', 'Delivery status': 'In-Transit', 'Shipping cost': 200}, 104: {'Sender': 'Phillip', 'Receiver': 'John', 'Start date': '23-06-2020', 'Delivery date': '25-06-2020', 'Sender location': 'Area 1', 'Receiver location': 'Area 4', 'Delivery status': 'Delivered', 'Shipping cost': 314}, 105: {'Sender': 'Ramya', 'Receiver': 'Romesh', 'Start date': '29-08-2020', 'Delivery date': '10-09-2020', 'Sender location': 'Area 5', 'Receiver location': 'Area 3', 'Delivery status': 'Delivered', 'Shipping cost': 275}, 106: {'Sender': 'John', 'Receiver': 'Omega lll', 'Start date': '28-06-2020', 'Delivery date': 'Null', 'Sender location': 'Area 3', 'Receiver location': 'Area 1', 'Delivery status': 'In-Transit', 'Shipping cost': 270}}\n",
    "\n",
    "a"
   ]
  },
  {
   "cell_type": "code",
   "execution_count": 36,
   "id": "ebb35173",
   "metadata": {},
   "outputs": [
    {
     "name": "stdout",
     "output_type": "stream",
     "text": [
      "{'Sender': 'Phillip', 'Receiver': 'John', 'Start date': '23-06-2020', 'Delivery date': '25-06-2020', 'Sender location': 'Area 1', 'Receiver location': 'Area 4', 'Delivery status': 'Delivered', 'Shipping cost': 314}\n"
     ]
    }
   ],
   "source": [
    "a= {101: {'Sender': 'Phillip', 'Receiver': 'Ramya', 'Start date': '14-03-2020', 'Delivery date': '25-03-2020', 'Sender location': 'Area 1', 'Receiver location': 'Area 6', 'Delivery status': 'Delivered', 'Shipping cost': 198}, 102: {'Sender': 'Romesh', 'Receiver': 'Phillip', 'Start date': '18-06-2020', 'Delivery date': '09-07-2020', 'Sender location': 'Area 2', 'Receiver location': 'Area 4', 'Delivery status': 'Delivered', 'Shipping cost': 275}, 103: {'Sender': 'Omega lll', 'Receiver': 'Ramya', 'Start date': '01-12-2020', 'Delivery date': 'Null', 'Sender location': 'Area 5', 'Receiver location': 'Area 1', 'Delivery status': 'In-Transit', 'Shipping cost': 200}, 104: {'Sender': 'Phillip', 'Receiver': 'John', 'Start date': '23-06-2020', 'Delivery date': '25-06-2020', 'Sender location': 'Area 1', 'Receiver location': 'Area 4', 'Delivery status': 'Delivered', 'Shipping cost': 314}, 105: {'Sender': 'Ramya', 'Receiver': 'Romesh', 'Start date': '29-08-2020', 'Delivery date': '10-09-2020', 'Sender location': 'Area 5', 'Receiver location': 'Area 3', 'Delivery status': 'Delivered', 'Shipping cost': 275}, 106: {'Sender': 'John', 'Receiver': 'Omega lll', 'Start date': '28-06-2020', 'Delivery date': 'Null', 'Sender location': 'Area 3', 'Receiver location': 'Area 1', 'Delivery status': 'In-Transit', 'Shipping cost': 270}}\n",
    "from datetime import datetime\n",
    "\n",
    "for v in a.values():\n",
    "    if v[\"Delivery date\"] == \"Null\":\n",
    "        continue\n",
    "\n",
    "    start = datetime.strptime(v[\"Start date\"], \"%d-%m-%Y\")# Return a datetime corresponding to date_string, parsed according to format.\n",
    "    delivery = datetime.strptime(v[\"Delivery date\"], \"%d-%m-%Y\") #Return a datetime corresponding to date_string, parsed according to format.\n",
    "\n",
    "    if (delivery - start).days <= 7: # to get those whose shipment is less than 7 days\n",
    "        print(v)"
   ]
  },
  {
   "cell_type": "markdown",
   "id": "ed072355",
   "metadata": {},
   "source": [
    "Q8. Print all shipments which are delivered after 15 days of courier start date or have not been yet  delivered."
   ]
  },
  {
   "cell_type": "code",
   "execution_count": 127,
   "id": "85ce3eed",
   "metadata": {},
   "outputs": [
    {
     "name": "stdout",
     "output_type": "stream",
     "text": [
      "{'Sender': 'Romesh', 'Receiver': 'Phillip', 'Start date': '18-06-2020', 'Delivery date': '09-07-2020', 'Sender location': 'Area 2', 'Receiver location': 'Area 4', 'Delivery status': 'Delivered', 'Shipping cost': 275}\n"
     ]
    }
   ],
   "source": [
    "a= {101: {'Sender': 'Phillip', 'Receiver': 'Ramya', 'Start date': '14-03-2020', 'Delivery date': '25-03-2020', 'Sender location': 'Area 1', 'Receiver location': 'Area 6', 'Delivery status': 'Delivered', 'Shipping cost': 198}, 102: {'Sender': 'Romesh', 'Receiver': 'Phillip', 'Start date': '18-06-2020', 'Delivery date': '09-07-2020', 'Sender location': 'Area 2', 'Receiver location': 'Area 4', 'Delivery status': 'Delivered', 'Shipping cost': 275}, 103: {'Sender': 'Omega lll', 'Receiver': 'Ramya', 'Start date': '01-12-2020', 'Delivery date': 'Null', 'Sender location': 'Area 5', 'Receiver location': 'Area 1', 'Delivery status': 'In-Transit', 'Shipping cost': 200}, 104: {'Sender': 'Phillip', 'Receiver': 'John', 'Start date': '23-06-2020', 'Delivery date': '25-06-2020', 'Sender location': 'Area 1', 'Receiver location': 'Area 4', 'Delivery status': 'Delivered', 'Shipping cost': 314}, 105: {'Sender': 'Ramya', 'Receiver': 'Romesh', 'Start date': '29-08-2020', 'Delivery date': '10-09-2020', 'Sender location': 'Area 5', 'Receiver location': 'Area 3', 'Delivery status': 'Delivered', 'Shipping cost': 275}, 106: {'Sender': 'John', 'Receiver': 'Omega lll', 'Start date': '28-06-2020', 'Delivery date': 'Null', 'Sender location': 'Area 3', 'Receiver location': 'Area 1', 'Delivery status': 'In-Transit', 'Shipping cost': 270}}\n",
    "from datetime import datetime\n",
    "\n",
    "for v in a.values():\n",
    "    if v[\"Delivery date\"] == \"Null\":\n",
    "        continue         \n",
    "\n",
    "    start = datetime.strptime(v[\"Start date\"], \"%d-%m-%Y\") # Return a datetime corresponding to date_string, parsed according to format.\n",
    "    delivery = datetime.strptime(v[\"Delivery date\"], \"%d-%m-%Y\") # Return a datetime corresponding to date_string, parsed according to format.\n",
    "\n",
    "    if (delivery - start).days > 15 : # to get shipment details whose delivery date is more than 15 days \n",
    "        print(v)"
   ]
  },
  {
   "cell_type": "markdown",
   "id": "b3dba439",
   "metadata": {},
   "source": [
    "Q 9. Write a function find_all_routes to display all possible routes from senders location to receivers location given in the dictionary for each shipment"
   ]
  },
  {
   "cell_type": "code",
   "execution_count": 75,
   "id": "dc1997c2",
   "metadata": {},
   "outputs": [
    {
     "name": "stdout",
     "output_type": "stream",
     "text": [
      "pathfound [1, 2, 3, 4, 5]\n",
      "back\n",
      "back\n",
      "back\n",
      "back\n",
      "pathfound [1, 2, 4, 5]\n",
      "back\n",
      "back\n",
      "back\n",
      "back\n"
     ]
    }
   ],
   "source": [
    "def retunpath(startindex):\n",
    "    possible = []\n",
    "    for x in range(0, len(route[startindex-1])):\n",
    "        if(route[startindex-1][x] == 1):\n",
    "            possible.append(x+1)\n",
    "    return possible\n",
    "route = [\n",
    "    [0, 1, 0, 0, 0, 1],\n",
    "    [1, 0, 1, 1, 0, 0],\n",
    "    [0, 1, 0, 1, 0, 0],\n",
    "    [0, 1, 1, 0, 1, 0],\n",
    "    [0, 0, 0, 1, 0, 0],\n",
    "    [1, 0, 0, 0, 0, 0]\n",
    "]\n",
    "level = 1 #level \n",
    "start = 1 # starting node\n",
    "end = 5 # which destination you want to reach\n",
    "possiblepath = [] # returns all the possible node from which we can travel\n",
    "visitednode = {}  #save the path against level\n",
    "flowstart = [] #in which  flow we are moving\n",
    "temp = []\n",
    "front = True # going down and up\n",
    "while(1):\n",
    "    if(front):\n",
    "        flowstart.append(start)\n",
    "    possiblepath = retunpath(start).copy()\n",
    "    if(not front):\n",
    "        for y in visitednode[level]:\n",
    "            temp = [y[0], y[1]]\n",
    "            if(temp in visitednode[level] and (possiblepath.count(y[1]))):\n",
    "                possiblepath.pop(possiblepath.index(y[1]))\n",
    "    temp = []\n",
    "    for x in possiblepath:  \n",
    "        if(flowstart.count(x) < 1):\n",
    "            temp.append([start, x])\n",
    "            if(end == x):\n",
    "                print(\"pathfound\", flowstart+[x])\n",
    "            try:\n",
    "                visitednode[level].append([start, x])\n",
    "            except:\n",
    "                visitednode[level]=temp\n",
    "            start = x\n",
    "            level = level+1\n",
    "            front=True\n",
    "            break\n",
    "    else:\n",
    "        print(\"back\")\n",
    "        flowstart.pop()\n",
    "        start = flowstart[len(flowstart)-1]\n",
    "        level = level-1\n",
    "        front=False\n",
    "        if(flowstart == [start]):\n",
    "            if(len(visitednode[level]) == len(retunpath(start))):\n",
    "                break"
   ]
  },
  {
   "cell_type": "code",
   "execution_count": null,
   "id": "22d64bee",
   "metadata": {},
   "outputs": [],
   "source": []
  }
 ],
 "metadata": {
  "kernelspec": {
   "display_name": "Python 3 (ipykernel)",
   "language": "python",
   "name": "python3"
  },
  "language_info": {
   "codemirror_mode": {
    "name": "ipython",
    "version": 3
   },
   "file_extension": ".py",
   "mimetype": "text/x-python",
   "name": "python",
   "nbconvert_exporter": "python",
   "pygments_lexer": "ipython3",
   "version": "3.9.7"
  }
 },
 "nbformat": 4,
 "nbformat_minor": 5
}
